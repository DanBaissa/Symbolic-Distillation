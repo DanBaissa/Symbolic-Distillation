{
  "cells": [
    {
      "cell_type": "markdown",
      "metadata": {
        "id": "view-in-github",
        "colab_type": "text"
      },
      "source": [
        "<a href=\"https://colab.research.google.com/github/DanBaissa/Symbolic-Distillation/blob/main/symbolic_distillation_bert.ipynb\" target=\"_parent\"><img src=\"https://colab.research.google.com/assets/colab-badge.svg\" alt=\"Open In Colab\"/></a>"
      ]
    },
    {
      "cell_type": "markdown",
      "metadata": {
        "id": "0dTrFCfWB6yS"
      },
      "source": [
        "# 🧠 Symbolic Distillation of BERT Predictions in Google Colab\n",
        "\n",
        "This notebook demonstrates how to distill the predictions of a powerful BERT-based sentiment classifier into a set of interpretable token-level features. The goal is to understand and approximate the behavior of the black-box model using simple, human-readable attributes like part-of-speech (POS) tags and token identities. We extract features from text using NLTK, apply a pre-trained DistilBERT model to generate sentiment predictions, and construct a labeled dataset combining raw inputs, predicted outputs, and true sentiment labels. Finally, we evaluate the performance of the predictions and upload the results to a GitHub repository."
      ]
    },
    {
      "cell_type": "markdown",
      "metadata": {
        "id": "80tjHo2SB6yV"
      },
      "source": [
        "## 1a. GitHub Upload Setup\n",
        "\n",
        "This section sets up Git to push notebook outputs to your GitHub repository. It uses a personal access token (retrieved securely via Colab's `userdata`) to authenticate and push code and results automatically."
      ]
    },
    {
      "cell_type": "code",
      "execution_count": null,
      "metadata": {
        "colab": {
          "base_uri": "https://localhost:8080/"
        },
        "id": "VgEZOOcSB6yV",
        "outputId": "de5feb0f-e3c0-44d8-f154-00a09f53841b"
      },
      "outputs": [
        {
          "name": "stdout",
          "output_type": "stream",
          "text": [
            "Cloning into 'Symbolic-Distillation'...\n",
            "remote: Enumerating objects: 3, done.\u001b[K\n",
            "remote: Counting objects: 100% (3/3), done.\u001b[K\n",
            "remote: Total 3 (delta 0), reused 0 (delta 0), pack-reused 0 (from 0)\u001b[K\n",
            "Receiving objects: 100% (3/3), done.\n",
            "/content/Symbolic-Distillation\n"
          ]
        }
      ],
      "source": [
        "from google.colab import userdata\n",
        "\n",
        "# Get token\n",
        "token = userdata.get('Colab_token')\n",
        "\n",
        "# Clone\n",
        "!git clone https://github.com/DanBaissa/Symbolic-Distillation.git\n",
        "\n",
        "# Change into the directory\n",
        "%cd Symbolic-Distillation\n",
        "\n",
        "# Set remote to use token (for pushing)\n",
        "!git remote set-url origin https://{token}@github.com/DanBaissa/Symbolic-Distillation.git\n",
        "# remote_url = f\"https://{token}@github.com/DanBaissa/Symbolic-Distillation.git\"\n",
        "# !git remote set-url origin \"$remote_url\"\n",
        "\n",
        "# Set Git config (only needs to be done once per session)\n",
        "!git config --global user.email \"danbaissa@gmail.com\"\n",
        "!git config --global user.name \"Dan Baissa\"\n"
      ]
    },
    {
      "cell_type": "markdown",
      "metadata": {
        "id": "skoSYEVJB6yV"
      },
      "source": [
        "## 1b. Installation\n",
        "\n",
        "This section installs all necessary packages, including Hugging Face Transformers, NLTK, and other dependencies used for loading models, processing text, and visualizing results."
      ]
    },
    {
      "cell_type": "code",
      "execution_count": null,
      "metadata": {
        "colab": {
          "background_save": true,
          "base_uri": "https://localhost:8080/"
        },
        "id": "jWWoVHh8B6yW",
        "outputId": "ae9baaa8-e3ea-400b-cb44-e6490d2389ed"
      },
      "outputs": [
        {
          "name": "stdout",
          "output_type": "stream",
          "text": [
            "\u001b[2K     \u001b[90m━━━━━━━━━━━━━━━━━━━━━━━━━━━━━━━━━━━━━━━━\u001b[0m \u001b[32m91.2/91.2 kB\u001b[0m \u001b[31m6.1 MB/s\u001b[0m eta \u001b[36m0:00:00\u001b[0m\n",
            "\u001b[2K   \u001b[90m━━━━━━━━━━━━━━━━━━━━━━━━━━━━━━━━━━━━━━━━\u001b[0m \u001b[32m12.4/12.4 MB\u001b[0m \u001b[31m60.6 MB/s\u001b[0m eta \u001b[36m0:00:00\u001b[0m\n",
            "\u001b[2K   \u001b[90m━━━━━━━━━━━━━━━━━━━━━━━━━━━━━━━━━━━━━━━━\u001b[0m \u001b[32m9.7/9.7 MB\u001b[0m \u001b[31m52.3 MB/s\u001b[0m eta \u001b[36m0:00:00\u001b[0m\n",
            "\u001b[2K   \u001b[90m━━━━━━━━━━━━━━━━━━━━━━━━━━━━━━━━━━━━━━━━\u001b[0m \u001b[32m494.8/494.8 kB\u001b[0m \u001b[31m20.8 MB/s\u001b[0m eta \u001b[36m0:00:00\u001b[0m\n",
            "\u001b[2K   \u001b[90m━━━━━━━━━━━━━━━━━━━━━━━━━━━━━━━━━━━━━━━━\u001b[0m \u001b[32m193.6/193.6 kB\u001b[0m \u001b[31m9.7 MB/s\u001b[0m eta \u001b[36m0:00:00\u001b[0m\n",
            "\u001b[?25h\u001b[31mERROR: pip's dependency resolver does not currently take into account all the packages that are installed. This behaviour is the source of the following dependency conflicts.\n",
            "google-colab 1.0.0 requires pandas==2.2.2, but you have pandas 2.3.1 which is incompatible.\n",
            "sklearn-compat 0.1.3 requires scikit-learn<1.7,>=1.2, but you have scikit-learn 1.7.1 which is incompatible.\n",
            "gcsfs 2025.3.2 requires fsspec==2025.3.2, but you have fsspec 2025.3.0 which is incompatible.\n",
            "torch 2.6.0+cu124 requires nvidia-cublas-cu12==12.4.5.8; platform_system == \"Linux\" and platform_machine == \"x86_64\", but you have nvidia-cublas-cu12 12.5.3.2 which is incompatible.\n",
            "torch 2.6.0+cu124 requires nvidia-cuda-cupti-cu12==12.4.127; platform_system == \"Linux\" and platform_machine == \"x86_64\", but you have nvidia-cuda-cupti-cu12 12.5.82 which is incompatible.\n",
            "torch 2.6.0+cu124 requires nvidia-cuda-nvrtc-cu12==12.4.127; platform_system == \"Linux\" and platform_machine == \"x86_64\", but you have nvidia-cuda-nvrtc-cu12 12.5.82 which is incompatible.\n",
            "torch 2.6.0+cu124 requires nvidia-cuda-runtime-cu12==12.4.127; platform_system == \"Linux\" and platform_machine == \"x86_64\", but you have nvidia-cuda-runtime-cu12 12.5.82 which is incompatible.\n",
            "torch 2.6.0+cu124 requires nvidia-cudnn-cu12==9.1.0.70; platform_system == \"Linux\" and platform_machine == \"x86_64\", but you have nvidia-cudnn-cu12 9.3.0.75 which is incompatible.\n",
            "torch 2.6.0+cu124 requires nvidia-cufft-cu12==11.2.1.3; platform_system == \"Linux\" and platform_machine == \"x86_64\", but you have nvidia-cufft-cu12 11.2.3.61 which is incompatible.\n",
            "torch 2.6.0+cu124 requires nvidia-curand-cu12==10.3.5.147; platform_system == \"Linux\" and platform_machine == \"x86_64\", but you have nvidia-curand-cu12 10.3.6.82 which is incompatible.\n",
            "torch 2.6.0+cu124 requires nvidia-cusolver-cu12==11.6.1.9; platform_system == \"Linux\" and platform_machine == \"x86_64\", but you have nvidia-cusolver-cu12 11.6.3.83 which is incompatible.\n",
            "torch 2.6.0+cu124 requires nvidia-cusparse-cu12==12.3.1.170; platform_system == \"Linux\" and platform_machine == \"x86_64\", but you have nvidia-cusparse-cu12 12.5.1.3 which is incompatible.\n",
            "torch 2.6.0+cu124 requires nvidia-nvjitlink-cu12==12.4.127; platform_system == \"Linux\" and platform_machine == \"x86_64\", but you have nvidia-nvjitlink-cu12 12.5.82 which is incompatible.\n",
            "cudf-cu12 25.6.0 requires pandas<2.2.4dev0,>=2.0, but you have pandas 2.3.1 which is incompatible.\n",
            "dask-cudf-cu12 25.6.0 requires pandas<2.2.4dev0,>=2.0, but you have pandas 2.3.1 which is incompatible.\u001b[0m\u001b[31m\n",
            "\u001b[0m"
          ]
        }
      ],
      "source": [
        "!pip install -q -U transformers pandas scikit-learn tqdm datasets huggingface_hub fsspec nltk"
      ]
    },
    {
      "cell_type": "markdown",
      "metadata": {
        "id": "J3GyvPm3B6yW"
      },
      "source": [
        "## 2. Load Other Imports and Models\n",
        "\n",
        "We import key libraries, download NLTK models for tokenization and POS tagging, and initialize the DistilBERT sentiment analysis pipeline. We also define helper functions to tokenize words and safely make predictions."
      ]
    },
    {
      "cell_type": "code",
      "execution_count": null,
      "metadata": {
        "colab": {
          "background_save": true,
          "base_uri": "https://localhost:8080/",
          "height": 466,
          "referenced_widgets": [
            "8a463c0f68a6453ba00441caa140fe8a",
            "484716c3387246568c534f595c844f8f",
            "750cd5626c2d4dc18bc205c33bd1d40c",
            "43283e30ac894969bfc89f2fe89dac94"
          ]
        },
        "id": "C8UkZ6pEB6yX",
        "outputId": "2532e98c-1e51-47e8-d48d-0423c4defe8a"
      },
      "outputs": [
        {
          "name": "stderr",
          "output_type": "stream",
          "text": [
            "[nltk_data] Downloading package punkt to /root/nltk_data...\n",
            "[nltk_data]   Unzipping tokenizers/punkt.zip.\n",
            "[nltk_data] Downloading package punkt_tab to /root/nltk_data...\n",
            "[nltk_data]   Unzipping tokenizers/punkt_tab.zip.\n",
            "[nltk_data] Downloading package averaged_perceptron_tagger to\n",
            "[nltk_data]     /root/nltk_data...\n",
            "[nltk_data]   Unzipping taggers/averaged_perceptron_tagger.zip.\n",
            "[nltk_data] Downloading package averaged_perceptron_tagger_eng to\n",
            "[nltk_data]     /root/nltk_data...\n",
            "[nltk_data]   Unzipping taggers/averaged_perceptron_tagger_eng.zip.\n",
            "/usr/local/lib/python3.11/dist-packages/huggingface_hub/utils/_auth.py:104: UserWarning: \n",
            "Error while fetching `HF_TOKEN` secret value from your vault: 'Requesting secret HF_TOKEN timed out. Secrets can only be fetched when running from the Colab UI.'.\n",
            "You are not authenticated with the Hugging Face Hub in this notebook.\n",
            "If the error persists, please let us know by opening an issue on GitHub (https://github.com/huggingface/huggingface_hub/issues/new).\n",
            "  warnings.warn(\n"
          ]
        },
        {
          "data": {
            "application/vnd.jupyter.widget-view+json": {
              "model_id": "8a463c0f68a6453ba00441caa140fe8a",
              "version_major": 2,
              "version_minor": 0
            },
            "text/plain": [
              "tokenizer_config.json:   0%|          | 0.00/48.0 [00:00<?, ?B/s]"
            ]
          },
          "metadata": {},
          "output_type": "display_data"
        },
        {
          "data": {
            "application/vnd.jupyter.widget-view+json": {
              "model_id": "484716c3387246568c534f595c844f8f",
              "version_major": 2,
              "version_minor": 0
            },
            "text/plain": [
              "config.json:   0%|          | 0.00/629 [00:00<?, ?B/s]"
            ]
          },
          "metadata": {},
          "output_type": "display_data"
        },
        {
          "data": {
            "application/vnd.jupyter.widget-view+json": {
              "model_id": "750cd5626c2d4dc18bc205c33bd1d40c",
              "version_major": 2,
              "version_minor": 0
            },
            "text/plain": [
              "vocab.txt:   0%|          | 0.00/232k [00:00<?, ?B/s]"
            ]
          },
          "metadata": {},
          "output_type": "display_data"
        },
        {
          "data": {
            "application/vnd.jupyter.widget-view+json": {
              "model_id": "43283e30ac894969bfc89f2fe89dac94",
              "version_major": 2,
              "version_minor": 0
            },
            "text/plain": [
              "model.safetensors:   0%|          | 0.00/268M [00:00<?, ?B/s]"
            ]
          },
          "metadata": {},
          "output_type": "display_data"
        },
        {
          "name": "stderr",
          "output_type": "stream",
          "text": [
            "Device set to use cuda:0\n"
          ]
        }
      ],
      "source": [
        "import nltk\n",
        "nltk.download('punkt')\n",
        "nltk.download('punkt_tab')\n",
        "nltk.download('averaged_perceptron_tagger')\n",
        "nltk.download('averaged_perceptron_tagger_eng')  # Fix for Colab issue\n",
        "from nltk import word_tokenize, pos_tag\n",
        "from transformers import AutoTokenizer, pipeline\n",
        "\n",
        "# Load BERT tokenizer\n",
        "tokenizer = AutoTokenizer.from_pretrained(\"distilbert-base-uncased-finetuned-sst-2-english\")\n",
        "\n",
        "# Token ID helper\n",
        "def token_id(word):\n",
        "    tokens = tokenizer.tokenize(word)\n",
        "    return tokenizer.convert_tokens_to_ids(tokens[0]) if tokens else 0\n",
        "\n",
        "# Load sentiment classifier\n",
        "sentiment_model = pipeline(\"sentiment-analysis\", model=\"distilbert-base-uncased-finetuned-sst-2-english\")\n",
        "\n",
        "def safe_predict(text):\n",
        "    try:\n",
        "        return sentiment_model(text)[0]\n",
        "    except:\n",
        "        return {\"label\": \"NEGATIVE\", \"score\": 0.0}"
      ]
    },
    {
      "cell_type": "markdown",
      "metadata": {
        "id": "zdBvJOwtB6yX"
      },
      "source": [
        "## 3. Test POS Tagging\n",
        "\n",
        "This diagnostic section demonstrates POS tagging on a sample sentence using NLTK. It prints each word along with its part-of-speech label, confirming that tagging is working properly."
      ]
    },
    {
      "cell_type": "code",
      "execution_count": null,
      "metadata": {
        "colab": {
          "background_save": true,
          "base_uri": "https://localhost:8080/"
        },
        "id": "ihTY-z9PB6yX",
        "outputId": "39ff5e30-2d75-488d-ddf9-4611854b35e7"
      },
      "outputs": [
        {
          "name": "stdout",
          "output_type": "stream",
          "text": [
            "The        DT\n",
            "quick      JJ\n",
            "brown      NN\n",
            "fox        NN\n",
            "jumps      VBZ\n",
            "over       IN\n",
            "the        DT\n",
            "lazy       JJ\n",
            "dog        NN\n",
            ".          .\n"
          ]
        }
      ],
      "source": [
        "sentence = \"The quick brown fox jumps over the lazy dog.\"\n",
        "tokens = word_tokenize(sentence)\n",
        "tags = pos_tag(tokens)\n",
        "for word, tag in tags:\n",
        "    print(f\"{word:10s} {tag}\")"
      ]
    },
    {
      "cell_type": "markdown",
      "metadata": {
        "id": "1g0V2A0GB6yY"
      },
      "source": [
        "## 4. Feature Extraction Using Trankit\n",
        "\n",
        "This section defines a function to extract interpretable token-level features from a sentence. It captures the positions and token IDs of up to 3 adjectives, 2 nouns, and 2 verbs, forming a structured feature set for each input."
      ]
    },
    {
      "cell_type": "code",
      "execution_count": null,
      "metadata": {
        "colab": {
          "background_save": true
        },
        "id": "bRLufHelB6yY"
      },
      "outputs": [],
      "source": [
        "def extract_features(sentence):\n",
        "    tokens = word_tokenize(sentence)\n",
        "    tags = pos_tag(tokens)\n",
        "\n",
        "    features = {\"text\": sentence}\n",
        "    adjs, nouns, verbs = [], [], []\n",
        "\n",
        "    for i, (word, tag) in enumerate(tags):\n",
        "        if tag.startswith(\"JJ\") and len(adjs) < 3:\n",
        "            adjs.append((i+1, token_id(word)))\n",
        "        elif tag.startswith(\"NN\") and len(nouns) < 2:\n",
        "            nouns.append((i+1, token_id(word)))\n",
        "        elif tag.startswith(\"VB\") and len(verbs) < 2:\n",
        "            verbs.append((i+1, token_id(word)))\n",
        "\n",
        "    adjs += [(0, 0)] * (3 - len(adjs))\n",
        "    nouns += [(0, 0)] * (2 - len(nouns))\n",
        "    verbs += [(0, 0)] * (2 - len(verbs))\n",
        "\n",
        "    for j, (pos, tid) in enumerate(adjs):\n",
        "        features[f\"adj{j+1}_pos\"], features[f\"adj{j+1}_id\"] = pos, tid\n",
        "    for j, (pos, tid) in enumerate(nouns):\n",
        "        features[f\"noun{j+1}_pos\"], features[f\"noun{j+1}_id\"] = pos, tid\n",
        "    for j, (pos, tid) in enumerate(verbs):\n",
        "        features[f\"verb{j+1}_pos\"], features[f\"verb{j+1}_id\"] = pos, tid\n",
        "\n",
        "    return features"
      ]
    },
    {
      "cell_type": "markdown",
      "metadata": {
        "id": "9ioQhpXMB6yZ"
      },
      "source": [
        "## 5. Build Feature DataFrame\n",
        "\n",
        "This section builds a DataFrame by applying the feature extraction method to IMDb movie reviews, predicts sentiment using DistilBERT, and saves the resulting structured features. The output includes both the BERT model's prediction (`y_est`) and the ground truth sentiment (`y_true`). The final DataFrame is saved as a CSV file in a `data` folder within your GitHub repository for future analysis or sharing."
      ]
    },
    {
      "cell_type": "code",
      "execution_count": null,
      "metadata": {
        "colab": {
          "background_save": true,
          "base_uri": "https://localhost:8080/",
          "height": 984,
          "referenced_widgets": [
            "37c8c578b89b4b858bdbc7d98f2abbe4",
            "6a59ea8b8f664499b4914f84cb9abd18",
            "9868d03db65b4f929200f4e7a12daac7",
            "b7f946e7902546b9bfcafccd30f14ffb",
            "c1046bd3d0664541a70e3f7611462eb9",
            "3727b43457364ff281b233d2386e7856",
            "693ace5591154413a3e4f57c751c5db5"
          ]
        },
        "id": "Ka2fxmQLB6yZ",
        "outputId": "e5849782-4e5f-4765-ed11-fa044c3198d6"
      },
      "outputs": [
        {
          "data": {
            "application/vnd.jupyter.widget-view+json": {
              "model_id": "37c8c578b89b4b858bdbc7d98f2abbe4",
              "version_major": 2,
              "version_minor": 0
            },
            "text/plain": [
              "README.md: 0.00B [00:00, ?B/s]"
            ]
          },
          "metadata": {},
          "output_type": "display_data"
        },
        {
          "data": {
            "application/vnd.jupyter.widget-view+json": {
              "model_id": "6a59ea8b8f664499b4914f84cb9abd18",
              "version_major": 2,
              "version_minor": 0
            },
            "text/plain": [
              "train-00000-of-00001.parquet:   0%|          | 0.00/21.0M [00:00<?, ?B/s]"
            ]
          },
          "metadata": {},
          "output_type": "display_data"
        },
        {
          "data": {
            "application/vnd.jupyter.widget-view+json": {
              "model_id": "9868d03db65b4f929200f4e7a12daac7",
              "version_major": 2,
              "version_minor": 0
            },
            "text/plain": [
              "test-00000-of-00001.parquet:   0%|          | 0.00/20.5M [00:00<?, ?B/s]"
            ]
          },
          "metadata": {},
          "output_type": "display_data"
        },
        {
          "data": {
            "application/vnd.jupyter.widget-view+json": {
              "model_id": "b7f946e7902546b9bfcafccd30f14ffb",
              "version_major": 2,
              "version_minor": 0
            },
            "text/plain": [
              "unsupervised-00000-of-00001.parquet:   0%|          | 0.00/42.0M [00:00<?, ?B/s]"
            ]
          },
          "metadata": {},
          "output_type": "display_data"
        },
        {
          "data": {
            "application/vnd.jupyter.widget-view+json": {
              "model_id": "c1046bd3d0664541a70e3f7611462eb9",
              "version_major": 2,
              "version_minor": 0
            },
            "text/plain": [
              "Generating train split:   0%|          | 0/25000 [00:00<?, ? examples/s]"
            ]
          },
          "metadata": {},
          "output_type": "display_data"
        },
        {
          "data": {
            "application/vnd.jupyter.widget-view+json": {
              "model_id": "3727b43457364ff281b233d2386e7856",
              "version_major": 2,
              "version_minor": 0
            },
            "text/plain": [
              "Generating test split:   0%|          | 0/25000 [00:00<?, ? examples/s]"
            ]
          },
          "metadata": {},
          "output_type": "display_data"
        },
        {
          "data": {
            "application/vnd.jupyter.widget-view+json": {
              "model_id": "693ace5591154413a3e4f57c751c5db5",
              "version_major": 2,
              "version_minor": 0
            },
            "text/plain": [
              "Generating unsupervised split:   0%|          | 0/50000 [00:00<?, ? examples/s]"
            ]
          },
          "metadata": {},
          "output_type": "display_data"
        },
        {
          "name": "stderr",
          "output_type": "stream",
          "text": [
            "1it [00:00,  2.25it/s]Token indices sequence length is longer than the specified maximum sequence length for this model (936 > 512). Running this sequence through the model will result in indexing errors\n",
            "10it [00:00, 17.90it/s]You seem to be using the pipelines sequentially on GPU. In order to maximize efficiency please use a dataset\n",
            "20000it [06:23, 52.11it/s]\n"
          ]
        },
        {
          "data": {
            "application/vnd.google.colaboratory.intrinsic+json": {
              "summary": "{\n  \"name\": \"df\",\n  \"rows\": 20000,\n  \"fields\": [\n    {\n      \"column\": \"text\",\n      \"properties\": {\n        \"dtype\": \"string\",\n        \"num_unique_values\": 19940,\n        \"samples\": [\n          \"Ben & Arthur COULD have been a 10. Sam Mraovich wrote, directed, stared, and produced this movie. Sam should have given his idea to a good writer, director, and left the acting to somebody who could act. this is a good example of one person controlling the whole production. there was nobody to tell him, \\\"Sam this is bad, really bad\\\".<br /><br />Jamie Brett Gabel's acting was the only good point, but he could have been so much better with a good director, and better actors to work with. <br /><br />This movie is so bad i think Sam Mraovich should be tied to a chair and made to watch this movie (twice). the acting and direction was so bad, this movie was turned into a comedy. you just had to laugh, and in the wrong places. <br /><br />A second good point....this would make a great date movie. after the first two minutes you would quit watching the movie and pay more attention to your date!\",\n          \"This film is not funny. It is not entertaining. It does not contain one single second of originality or intelligence, nor does it lead you to take the slightest interest in the characters or situation. Added to that it's about as juvenile a movie as anything in recent memory. It's as if a group of 14 or 15 year old high school kids who had never actually met or had any type of relationship with a real girl had sat down and wrote a movie based on their incorrect fantasies about what being an adult man would be like. This movie is boring, obnoxiously mind-numbing, and at times offensive and disgusting. At most, it contains one or two moments that make you laugh. Also, it seems twice as long as its 85 minute running time.\",\n          \"There is one good thing in this movie: Lola Glaudini's ass! Sorry to be so blunt but it's the truth. Too bad she didn't do a nude. It would at least have made this mess tolerable. We see another chick's boobs but she's nowhere near Lola. And man, is Armand Assante old or what? The man looks like crap! \\\"Consequence\\\" is the usual B-Movie you would expect. The story had potential. It's like they had good ideas but didn't know how to execute them. The cinematography is just plain awful. Ugly! The directing is uninspired and the end result is a bland thriller with lame twists and washed up actors. Lola Gaudini is great as the vixen in a cheap, slutty way but not even she saves \\\"Consequence\\\" from being trash and not funny trash, just plain old stinking trash.\"\n        ],\n        \"semantic_type\": \"\",\n        \"description\": \"\"\n      }\n    },\n    {\n      \"column\": \"adj1_pos\",\n      \"properties\": {\n        \"dtype\": \"number\",\n        \"std\": 12,\n        \"min\": 0,\n        \"max\": 149,\n        \"num_unique_values\": 115,\n        \"samples\": [\n          77,\n          33,\n          51\n        ],\n        \"semantic_type\": \"\",\n        \"description\": \"\"\n      }\n    },\n    {\n      \"column\": \"adj1_id\",\n      \"properties\": {\n        \"dtype\": \"number\",\n        \"std\": 5399,\n        \"min\": 0,\n        \"max\": 29596,\n        \"num_unique_values\": 2387,\n        \"samples\": [\n          18821,\n          5519,\n          6387\n        ],\n        \"semantic_type\": \"\",\n        \"description\": \"\"\n      }\n    },\n    {\n      \"column\": \"adj2_pos\",\n      \"properties\": {\n        \"dtype\": \"number\",\n        \"std\": 17,\n        \"min\": 0,\n        \"max\": 186,\n        \"num_unique_values\": 143,\n        \"samples\": [\n          87,\n          63,\n          97\n        ],\n        \"semantic_type\": \"\",\n        \"description\": \"\"\n      }\n    },\n    {\n      \"column\": \"adj2_id\",\n      \"properties\": {\n        \"dtype\": \"number\",\n        \"std\": 5531,\n        \"min\": 0,\n        \"max\": 29591,\n        \"num_unique_values\": 2634,\n        \"samples\": [\n          5016,\n          5110,\n          2736\n        ],\n        \"semantic_type\": \"\",\n        \"description\": \"\"\n      }\n    },\n    {\n      \"column\": \"adj3_pos\",\n      \"properties\": {\n        \"dtype\": \"number\",\n        \"std\": 22,\n        \"min\": 0,\n        \"max\": 227,\n        \"num_unique_values\": 166,\n        \"samples\": [\n          99,\n          107,\n          130\n        ],\n        \"semantic_type\": \"\",\n        \"description\": \"\"\n      }\n    },\n    {\n      \"column\": \"adj3_id\",\n      \"properties\": {\n        \"dtype\": \"number\",\n        \"std\": 5769,\n        \"min\": 0,\n        \"max\": 29592,\n        \"num_unique_values\": 2797,\n        \"samples\": [\n          22512,\n          3232,\n          13675\n        ],\n        \"semantic_type\": \"\",\n        \"description\": \"\"\n      }\n    },\n    {\n      \"column\": \"noun1_pos\",\n      \"properties\": {\n        \"dtype\": \"number\",\n        \"std\": 3,\n        \"min\": 1,\n        \"max\": 53,\n        \"num_unique_values\": 31,\n        \"samples\": [\n          23,\n          14,\n          25\n        ],\n        \"semantic_type\": \"\",\n        \"description\": \"\"\n      }\n    },\n    {\n      \"column\": \"noun1_id\",\n      \"properties\": {\n        \"dtype\": \"number\",\n        \"std\": 5540,\n        \"min\": 0,\n        \"max\": 29536,\n        \"num_unique_values\": 3733,\n        \"samples\": [\n          5955,\n          6099,\n          2451\n        ],\n        \"semantic_type\": \"\",\n        \"description\": \"\"\n      }\n    },\n    {\n      \"column\": \"noun2_pos\",\n      \"properties\": {\n        \"dtype\": \"number\",\n        \"std\": 4,\n        \"min\": 2,\n        \"max\": 57,\n        \"num_unique_values\": 40,\n        \"samples\": [\n          18,\n          3,\n          4\n        ],\n        \"semantic_type\": \"\",\n        \"description\": \"\"\n      }\n    },\n    {\n      \"column\": \"noun2_id\",\n      \"properties\": {\n        \"dtype\": \"number\",\n        \"std\": 5982,\n        \"min\": 0,\n        \"max\": 29591,\n        \"num_unique_values\": 4471,\n        \"samples\": [\n          6011,\n          5212,\n          7321\n        ],\n        \"semantic_type\": \"\",\n        \"description\": \"\"\n      }\n    },\n    {\n      \"column\": \"verb1_pos\",\n      \"properties\": {\n        \"dtype\": \"number\",\n        \"std\": 5,\n        \"min\": 1,\n        \"max\": 140,\n        \"num_unique_values\": 58,\n        \"samples\": [\n          2,\n          6,\n          25\n        ],\n        \"semantic_type\": \"\",\n        \"description\": \"\"\n      }\n    },\n    {\n      \"column\": \"verb1_id\",\n      \"properties\": {\n        \"dtype\": \"number\",\n        \"std\": 3568,\n        \"min\": 0,\n        \"max\": 29515,\n        \"num_unique_values\": 1700,\n        \"samples\": [\n          16083,\n          2265,\n          2707\n        ],\n        \"semantic_type\": \"\",\n        \"description\": \"\"\n      }\n    },\n    {\n      \"column\": \"verb2_pos\",\n      \"properties\": {\n        \"dtype\": \"number\",\n        \"std\": 8,\n        \"min\": 0,\n        \"max\": 207,\n        \"num_unique_values\": 82,\n        \"samples\": [\n          35,\n          16,\n          2\n        ],\n        \"semantic_type\": \"\",\n        \"description\": \"\"\n      }\n    },\n    {\n      \"column\": \"verb2_id\",\n      \"properties\": {\n        \"dtype\": \"number\",\n        \"std\": 4378,\n        \"min\": 0,\n        \"max\": 29592,\n        \"num_unique_values\": 2408,\n        \"samples\": [\n          5443,\n          4941,\n          2486\n        ],\n        \"semantic_type\": \"\",\n        \"description\": \"\"\n      }\n    },\n    {\n      \"column\": \"y_est\",\n      \"properties\": {\n        \"dtype\": \"number\",\n        \"std\": 0.9031622721659409,\n        \"min\": -0.9998283386230469,\n        \"max\": 0.9998947381973267,\n        \"num_unique_values\": 14840,\n        \"samples\": [\n          -0.9837594032287598,\n          -0.9996436834335327,\n          -0.9622067809104919\n        ],\n        \"semantic_type\": \"\",\n        \"description\": \"\"\n      }\n    },\n    {\n      \"column\": \"y_true\",\n      \"properties\": {\n        \"dtype\": \"number\",\n        \"std\": 1,\n        \"min\": -1,\n        \"max\": 1,\n        \"num_unique_values\": 2,\n        \"samples\": [\n          -1,\n          1\n        ],\n        \"semantic_type\": \"\",\n        \"description\": \"\"\n      }\n    }\n  ]\n}",
              "type": "dataframe",
              "variable_name": "df"
            },
            "text/html": [
              "\n",
              "  <div id=\"df-9889cf48-c4d2-4d65-b4e2-b3b30bbb32aa\" class=\"colab-df-container\">\n",
              "    <div>\n",
              "<style scoped>\n",
              "    .dataframe tbody tr th:only-of-type {\n",
              "        vertical-align: middle;\n",
              "    }\n",
              "\n",
              "    .dataframe tbody tr th {\n",
              "        vertical-align: top;\n",
              "    }\n",
              "\n",
              "    .dataframe thead th {\n",
              "        text-align: right;\n",
              "    }\n",
              "</style>\n",
              "<table border=\"1\" class=\"dataframe\">\n",
              "  <thead>\n",
              "    <tr style=\"text-align: right;\">\n",
              "      <th></th>\n",
              "      <th>text</th>\n",
              "      <th>adj1_pos</th>\n",
              "      <th>adj1_id</th>\n",
              "      <th>adj2_pos</th>\n",
              "      <th>adj2_id</th>\n",
              "      <th>adj3_pos</th>\n",
              "      <th>adj3_id</th>\n",
              "      <th>noun1_pos</th>\n",
              "      <th>noun1_id</th>\n",
              "      <th>noun2_pos</th>\n",
              "      <th>noun2_id</th>\n",
              "      <th>verb1_pos</th>\n",
              "      <th>verb1_id</th>\n",
              "      <th>verb2_pos</th>\n",
              "      <th>verb2_id</th>\n",
              "      <th>y_est</th>\n",
              "      <th>y_true</th>\n",
              "    </tr>\n",
              "  </thead>\n",
              "  <tbody>\n",
              "    <tr>\n",
              "      <th>0</th>\n",
              "      <td>There is no relation at all between Fortier an...</td>\n",
              "      <td>17</td>\n",
              "      <td>2610</td>\n",
              "      <td>20</td>\n",
              "      <td>6355</td>\n",
              "      <td>29</td>\n",
              "      <td>4438</td>\n",
              "      <td>4</td>\n",
              "      <td>7189</td>\n",
              "      <td>8</td>\n",
              "      <td>3481</td>\n",
              "      <td>2</td>\n",
              "      <td>2003</td>\n",
              "      <td>16</td>\n",
              "      <td>2024</td>\n",
              "      <td>0.996812</td>\n",
              "      <td>1</td>\n",
              "    </tr>\n",
              "    <tr>\n",
              "      <th>1</th>\n",
              "      <td>This movie is a great. The plot is very true t...</td>\n",
              "      <td>5</td>\n",
              "      <td>2307</td>\n",
              "      <td>11</td>\n",
              "      <td>2995</td>\n",
              "      <td>18</td>\n",
              "      <td>4438</td>\n",
              "      <td>2</td>\n",
              "      <td>3185</td>\n",
              "      <td>8</td>\n",
              "      <td>5436</td>\n",
              "      <td>3</td>\n",
              "      <td>2003</td>\n",
              "      <td>9</td>\n",
              "      <td>2003</td>\n",
              "      <td>0.999873</td>\n",
              "      <td>1</td>\n",
              "    </tr>\n",
              "    <tr>\n",
              "      <th>2</th>\n",
              "      <td>George P. Cosmatos' \"Rambo: First Blood Part I...</td>\n",
              "      <td>14</td>\n",
              "      <td>5760</td>\n",
              "      <td>15</td>\n",
              "      <td>4299</td>\n",
              "      <td>37</td>\n",
              "      <td>10047</td>\n",
              "      <td>1</td>\n",
              "      <td>2577</td>\n",
              "      <td>2</td>\n",
              "      <td>1052</td>\n",
              "      <td>13</td>\n",
              "      <td>2003</td>\n",
              "      <td>21</td>\n",
              "      <td>2106</td>\n",
              "      <td>0.996462</td>\n",
              "      <td>-1</td>\n",
              "    </tr>\n",
              "    <tr>\n",
              "      <th>3</th>\n",
              "      <td>In the process of trying to establish the audi...</td>\n",
              "      <td>41</td>\n",
              "      <td>17657</td>\n",
              "      <td>55</td>\n",
              "      <td>2219</td>\n",
              "      <td>67</td>\n",
              "      <td>2576</td>\n",
              "      <td>3</td>\n",
              "      <td>2832</td>\n",
              "      <td>9</td>\n",
              "      <td>9501</td>\n",
              "      <td>5</td>\n",
              "      <td>2667</td>\n",
              "      <td>7</td>\n",
              "      <td>5323</td>\n",
              "      <td>-0.997399</td>\n",
              "      <td>1</td>\n",
              "    </tr>\n",
              "    <tr>\n",
              "      <th>4</th>\n",
              "      <td>Yeh, I know -- you're quivering with excitemen...</td>\n",
              "      <td>33</td>\n",
              "      <td>4895</td>\n",
              "      <td>35</td>\n",
              "      <td>3606</td>\n",
              "      <td>37</td>\n",
              "      <td>10634</td>\n",
              "      <td>1</td>\n",
              "      <td>6300</td>\n",
              "      <td>10</td>\n",
              "      <td>8277</td>\n",
              "      <td>4</td>\n",
              "      <td>2113</td>\n",
              "      <td>7</td>\n",
              "      <td>1005</td>\n",
              "      <td>-0.000000</td>\n",
              "      <td>-1</td>\n",
              "    </tr>\n",
              "  </tbody>\n",
              "</table>\n",
              "</div>\n",
              "    <div class=\"colab-df-buttons\">\n",
              "\n",
              "  <div class=\"colab-df-container\">\n",
              "    <button class=\"colab-df-convert\" onclick=\"convertToInteractive('df-9889cf48-c4d2-4d65-b4e2-b3b30bbb32aa')\"\n",
              "            title=\"Convert this dataframe to an interactive table.\"\n",
              "            style=\"display:none;\">\n",
              "\n",
              "  <svg xmlns=\"http://www.w3.org/2000/svg\" height=\"24px\" viewBox=\"0 -960 960 960\">\n",
              "    <path d=\"M120-120v-720h720v720H120Zm60-500h600v-160H180v160Zm220 220h160v-160H400v160Zm0 220h160v-160H400v160ZM180-400h160v-160H180v160Zm440 0h160v-160H620v160ZM180-180h160v-160H180v160Zm440 0h160v-160H620v160Z\"/>\n",
              "  </svg>\n",
              "    </button>\n",
              "\n",
              "  <style>\n",
              "    .colab-df-container {\n",
              "      display:flex;\n",
              "      gap: 12px;\n",
              "    }\n",
              "\n",
              "    .colab-df-convert {\n",
              "      background-color: #E8F0FE;\n",
              "      border: none;\n",
              "      border-radius: 50%;\n",
              "      cursor: pointer;\n",
              "      display: none;\n",
              "      fill: #1967D2;\n",
              "      height: 32px;\n",
              "      padding: 0 0 0 0;\n",
              "      width: 32px;\n",
              "    }\n",
              "\n",
              "    .colab-df-convert:hover {\n",
              "      background-color: #E2EBFA;\n",
              "      box-shadow: 0px 1px 2px rgba(60, 64, 67, 0.3), 0px 1px 3px 1px rgba(60, 64, 67, 0.15);\n",
              "      fill: #174EA6;\n",
              "    }\n",
              "\n",
              "    .colab-df-buttons div {\n",
              "      margin-bottom: 4px;\n",
              "    }\n",
              "\n",
              "    [theme=dark] .colab-df-convert {\n",
              "      background-color: #3B4455;\n",
              "      fill: #D2E3FC;\n",
              "    }\n",
              "\n",
              "    [theme=dark] .colab-df-convert:hover {\n",
              "      background-color: #434B5C;\n",
              "      box-shadow: 0px 1px 3px 1px rgba(0, 0, 0, 0.15);\n",
              "      filter: drop-shadow(0px 1px 2px rgba(0, 0, 0, 0.3));\n",
              "      fill: #FFFFFF;\n",
              "    }\n",
              "  </style>\n",
              "\n",
              "    <script>\n",
              "      const buttonEl =\n",
              "        document.querySelector('#df-9889cf48-c4d2-4d65-b4e2-b3b30bbb32aa button.colab-df-convert');\n",
              "      buttonEl.style.display =\n",
              "        google.colab.kernel.accessAllowed ? 'block' : 'none';\n",
              "\n",
              "      async function convertToInteractive(key) {\n",
              "        const element = document.querySelector('#df-9889cf48-c4d2-4d65-b4e2-b3b30bbb32aa');\n",
              "        const dataTable =\n",
              "          await google.colab.kernel.invokeFunction('convertToInteractive',\n",
              "                                                    [key], {});\n",
              "        if (!dataTable) return;\n",
              "\n",
              "        const docLinkHtml = 'Like what you see? Visit the ' +\n",
              "          '<a target=\"_blank\" href=https://colab.research.google.com/notebooks/data_table.ipynb>data table notebook</a>'\n",
              "          + ' to learn more about interactive tables.';\n",
              "        element.innerHTML = '';\n",
              "        dataTable['output_type'] = 'display_data';\n",
              "        await google.colab.output.renderOutput(dataTable, element);\n",
              "        const docLink = document.createElement('div');\n",
              "        docLink.innerHTML = docLinkHtml;\n",
              "        element.appendChild(docLink);\n",
              "      }\n",
              "    </script>\n",
              "  </div>\n",
              "\n",
              "\n",
              "    <div id=\"df-eb91e669-8d46-4d76-b040-12b0c41fdfb4\">\n",
              "      <button class=\"colab-df-quickchart\" onclick=\"quickchart('df-eb91e669-8d46-4d76-b040-12b0c41fdfb4')\"\n",
              "                title=\"Suggest charts\"\n",
              "                style=\"display:none;\">\n",
              "\n",
              "<svg xmlns=\"http://www.w3.org/2000/svg\" height=\"24px\"viewBox=\"0 0 24 24\"\n",
              "     width=\"24px\">\n",
              "    <g>\n",
              "        <path d=\"M19 3H5c-1.1 0-2 .9-2 2v14c0 1.1.9 2 2 2h14c1.1 0 2-.9 2-2V5c0-1.1-.9-2-2-2zM9 17H7v-7h2v7zm4 0h-2V7h2v10zm4 0h-2v-4h2v4z\"/>\n",
              "    </g>\n",
              "</svg>\n",
              "      </button>\n",
              "\n",
              "<style>\n",
              "  .colab-df-quickchart {\n",
              "      --bg-color: #E8F0FE;\n",
              "      --fill-color: #1967D2;\n",
              "      --hover-bg-color: #E2EBFA;\n",
              "      --hover-fill-color: #174EA6;\n",
              "      --disabled-fill-color: #AAA;\n",
              "      --disabled-bg-color: #DDD;\n",
              "  }\n",
              "\n",
              "  [theme=dark] .colab-df-quickchart {\n",
              "      --bg-color: #3B4455;\n",
              "      --fill-color: #D2E3FC;\n",
              "      --hover-bg-color: #434B5C;\n",
              "      --hover-fill-color: #FFFFFF;\n",
              "      --disabled-bg-color: #3B4455;\n",
              "      --disabled-fill-color: #666;\n",
              "  }\n",
              "\n",
              "  .colab-df-quickchart {\n",
              "    background-color: var(--bg-color);\n",
              "    border: none;\n",
              "    border-radius: 50%;\n",
              "    cursor: pointer;\n",
              "    display: none;\n",
              "    fill: var(--fill-color);\n",
              "    height: 32px;\n",
              "    padding: 0;\n",
              "    width: 32px;\n",
              "  }\n",
              "\n",
              "  .colab-df-quickchart:hover {\n",
              "    background-color: var(--hover-bg-color);\n",
              "    box-shadow: 0 1px 2px rgba(60, 64, 67, 0.3), 0 1px 3px 1px rgba(60, 64, 67, 0.15);\n",
              "    fill: var(--button-hover-fill-color);\n",
              "  }\n",
              "\n",
              "  .colab-df-quickchart-complete:disabled,\n",
              "  .colab-df-quickchart-complete:disabled:hover {\n",
              "    background-color: var(--disabled-bg-color);\n",
              "    fill: var(--disabled-fill-color);\n",
              "    box-shadow: none;\n",
              "  }\n",
              "\n",
              "  .colab-df-spinner {\n",
              "    border: 2px solid var(--fill-color);\n",
              "    border-color: transparent;\n",
              "    border-bottom-color: var(--fill-color);\n",
              "    animation:\n",
              "      spin 1s steps(1) infinite;\n",
              "  }\n",
              "\n",
              "  @keyframes spin {\n",
              "    0% {\n",
              "      border-color: transparent;\n",
              "      border-bottom-color: var(--fill-color);\n",
              "      border-left-color: var(--fill-color);\n",
              "    }\n",
              "    20% {\n",
              "      border-color: transparent;\n",
              "      border-left-color: var(--fill-color);\n",
              "      border-top-color: var(--fill-color);\n",
              "    }\n",
              "    30% {\n",
              "      border-color: transparent;\n",
              "      border-left-color: var(--fill-color);\n",
              "      border-top-color: var(--fill-color);\n",
              "      border-right-color: var(--fill-color);\n",
              "    }\n",
              "    40% {\n",
              "      border-color: transparent;\n",
              "      border-right-color: var(--fill-color);\n",
              "      border-top-color: var(--fill-color);\n",
              "    }\n",
              "    60% {\n",
              "      border-color: transparent;\n",
              "      border-right-color: var(--fill-color);\n",
              "    }\n",
              "    80% {\n",
              "      border-color: transparent;\n",
              "      border-right-color: var(--fill-color);\n",
              "      border-bottom-color: var(--fill-color);\n",
              "    }\n",
              "    90% {\n",
              "      border-color: transparent;\n",
              "      border-bottom-color: var(--fill-color);\n",
              "    }\n",
              "  }\n",
              "</style>\n",
              "\n",
              "      <script>\n",
              "        async function quickchart(key) {\n",
              "          const quickchartButtonEl =\n",
              "            document.querySelector('#' + key + ' button');\n",
              "          quickchartButtonEl.disabled = true;  // To prevent multiple clicks.\n",
              "          quickchartButtonEl.classList.add('colab-df-spinner');\n",
              "          try {\n",
              "            const charts = await google.colab.kernel.invokeFunction(\n",
              "                'suggestCharts', [key], {});\n",
              "          } catch (error) {\n",
              "            console.error('Error during call to suggestCharts:', error);\n",
              "          }\n",
              "          quickchartButtonEl.classList.remove('colab-df-spinner');\n",
              "          quickchartButtonEl.classList.add('colab-df-quickchart-complete');\n",
              "        }\n",
              "        (() => {\n",
              "          let quickchartButtonEl =\n",
              "            document.querySelector('#df-eb91e669-8d46-4d76-b040-12b0c41fdfb4 button');\n",
              "          quickchartButtonEl.style.display =\n",
              "            google.colab.kernel.accessAllowed ? 'block' : 'none';\n",
              "        })();\n",
              "      </script>\n",
              "    </div>\n",
              "\n",
              "    </div>\n",
              "  </div>\n"
            ],
            "text/plain": [
              "                                                text  adj1_pos  adj1_id  \\\n",
              "0  There is no relation at all between Fortier an...        17     2610   \n",
              "1  This movie is a great. The plot is very true t...         5     2307   \n",
              "2  George P. Cosmatos' \"Rambo: First Blood Part I...        14     5760   \n",
              "3  In the process of trying to establish the audi...        41    17657   \n",
              "4  Yeh, I know -- you're quivering with excitemen...        33     4895   \n",
              "\n",
              "   adj2_pos  adj2_id  adj3_pos  adj3_id  noun1_pos  noun1_id  noun2_pos  \\\n",
              "0        20     6355        29     4438          4      7189          8   \n",
              "1        11     2995        18     4438          2      3185          8   \n",
              "2        15     4299        37    10047          1      2577          2   \n",
              "3        55     2219        67     2576          3      2832          9   \n",
              "4        35     3606        37    10634          1      6300         10   \n",
              "\n",
              "   noun2_id  verb1_pos  verb1_id  verb2_pos  verb2_id     y_est  y_true  \n",
              "0      3481          2      2003         16      2024  0.996812       1  \n",
              "1      5436          3      2003          9      2003  0.999873       1  \n",
              "2      1052         13      2003         21      2106  0.996462      -1  \n",
              "3      9501          5      2667          7      5323 -0.997399       1  \n",
              "4      8277          4      2113          7      1005 -0.000000      -1  "
            ]
          },
          "execution_count": 6,
          "metadata": {},
          "output_type": "execute_result"
        }
      ],
      "source": [
        "from datasets import load_dataset\n",
        "from tqdm import tqdm\n",
        "\n",
        "# Load and sample IMDb dataset\n",
        "data = load_dataset(\"imdb\", split=\"train\", cache_dir=\"/content/imdb_cache\")\n",
        "data = data.shuffle(seed=42).select(range(20000))\n",
        "\n",
        "sentences = data[\"text\"]\n",
        "labels = [2 * l - 1 for l in data[\"label\"]]  # Convert 0/1 to -1/+1\n",
        "\n",
        "rows = []\n",
        "for i, sent in tqdm(enumerate(sentences)):\n",
        "    feats = extract_features(sent)\n",
        "    label = safe_predict(sent)  # your BERT inference function\n",
        "    feats[\"y_est\"] = label[\"score\"] if label[\"label\"] == \"POSITIVE\" else -label[\"score\"]\n",
        "    feats[\"y_true\"] = labels[i]\n",
        "    rows.append(feats)\n",
        "\n",
        "import pandas as pd\n",
        "df = pd.DataFrame(rows)\n",
        "\n",
        "# Save to GitHub data folder\n",
        "import os\n",
        "os.makedirs(\"data\", exist_ok=True)\n",
        "df.to_csv(\"data/sentiment_features.csv\", index=False)\n",
        "df.head()"
      ]
    },
    {
      "cell_type": "markdown",
      "metadata": {
        "id": "eRn5Trp4B6yZ"
      },
      "source": [
        "## 6. Evaluate with Confusion Matrix and F1 Score\n",
        "\n",
        "We evaluate how closely the symbolic feature-based predictions match the original DistilBERT model. This section binarizes the predicted and true labels, then calculates the confusion matrix and F1 score for performance assessment."
      ]
    },
    {
      "cell_type": "code",
      "execution_count": null,
      "metadata": {
        "colab": {
          "background_save": true,
          "base_uri": "https://localhost:8080/",
          "height": 490
        },
        "id": "W7sMC9c-B6yZ",
        "outputId": "330dfd23-b197-4b9d-8d5c-3fcbdfe27f1a"
      },
      "outputs": [
        {
          "name": "stdout",
          "output_type": "stream",
          "text": [
            "F1 Score: 0.8189473684210526\n"
          ]
        },
        {
          "data": {
            "image/png": "[encoded data removed]",
            "text/plain": [
              "<Figure size 640x480 with 2 Axes>"
            ]
          },
          "metadata": {},
          "output_type": "display_data"
        }
      ],
      "source": [
        "from sklearn.metrics import confusion_matrix, f1_score\n",
        "import seaborn as sns\n",
        "import matplotlib.pyplot as plt\n",
        "\n",
        "# Convert predictions and labels to 0 and 1\n",
        "y_pred = (df[\"y_est\"] > 0).astype(int)\n",
        "y_true = (df[\"y_true\"] > 0).astype(int)\n",
        "\n",
        "# Compute confusion matrix and F1\n",
        "cm = confusion_matrix(y_true, y_pred)\n",
        "f1 = f1_score(y_true, y_pred)\n",
        "\n",
        "# Display\n",
        "print(\"F1 Score:\", f1)\n",
        "sns.heatmap(cm, annot=True, fmt=\"d\", cmap=\"Blues\", xticklabels=[\"NEG\", \"POS\"], yticklabels=[\"NEG\", \"POS\"])\n",
        "plt.xlabel(\"Predicted\")\n",
        "plt.ylabel(\"True\")\n",
        "plt.title(\"Confusion Matrix\")\n",
        "plt.show()"
      ]
    },
    {
      "cell_type": "code",
      "execution_count": null,
      "metadata": {
        "colab": {
          "background_save": true,
          "base_uri": "https://localhost:8080/"
        },
        "id": "YIaj330JB6yZ",
        "outputId": "5b23fc77-689a-413d-ca69-7d7b659c72b1"
      },
      "outputs": [
        {
          "name": "stdout",
          "output_type": "stream",
          "text": [
            "[main 41836cb] Auto push from Jupyter\n",
            " 1 file changed, 20001 insertions(+)\n",
            " create mode 100644 data/sentiment_features.csv\n",
            "Enumerating objects: 5, done.\n",
            "Counting objects: 100% (5/5), done.\n",
            "Delta compression using up to 2 threads\n",
            "Compressing objects: 100% (4/4), done.\n",
            "Writing objects: 100% (4/4), 11.17 MiB | 2.93 MiB/s, done.\n",
            "Total 4 (delta 0), reused 0 (delta 0), pack-reused 0\n",
            "To https://github.com/DanBaissa/Symbolic-Distillation.git\n",
            "   7e300e6..41836cb  main -> main\n"
          ]
        }
      ],
      "source": [
        "# Push results to GitHub\n",
        "# This final block stages the changes (like CSVs), commits them with a message, and pushes to GitHub.\n",
        "# Ensure that you have appropriate write access through your personal token.\n",
        "# This will stage all changes, commit with a standard message, and push to the main branch.\n",
        "# Make sure your Colab_token has push access to the repository.\n",
        "# Disable credential helper to avoid interactive prompt\n",
        "!git config --global --unset credential.helper || true\n",
        "!git config --global credential.helper \"\"\n",
        "\n",
        "\n",
        "!git add .\n",
        "!git commit -m \"Auto push from Jupyter\"\n",
        "!git push origin main"
      ]
    }
  ],
  "metadata": {
    "accelerator": "GPU",
    "colab": {
      "gpuType": "T4",
      "provenance": [],
      "include_colab_link": true
    },
    "kernelspec": {
      "display_name": "Python 3",
      "name": "python3"
    },
    "language_info": {
      "name": "python",
      "version": ""
    }
  },
  "nbformat": 4,
  "nbformat_minor": 0
}